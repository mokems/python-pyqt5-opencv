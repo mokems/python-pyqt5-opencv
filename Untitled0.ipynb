{
  "nbformat": 4,
  "nbformat_minor": 0,
  "metadata": {
    "colab": {
      "name": "Untitled0.ipynb",
      "provenance": [],
      "collapsed_sections": [],
      "mount_file_id": "1PA2qpxb3Z3VVXM9L5Bbgasj2QnuNTJHm",
      "authorship_tag": "ABX9TyNunkomDmeIiFWtOR/LbIrN",
      "include_colab_link": true
    },
    "kernelspec": {
      "name": "python3",
      "display_name": "Python 3"
    },
    "language_info": {
      "name": "python"
    },
    "accelerator": "GPU"
  },
  "cells": [
    {
      "cell_type": "markdown",
      "metadata": {
        "id": "view-in-github",
        "colab_type": "text"
      },
      "source": [
        "<a href=\"https://colab.research.google.com/github/mokems/python-pyqt5-opencv/blob/master/Untitled0.ipynb\" target=\"_parent\"><img src=\"https://colab.research.google.com/assets/colab-badge.svg\" alt=\"Open In Colab\"/></a>"
      ]
    },
    {
      "cell_type": "markdown",
      "metadata": {
        "id": "5wjIkevww3e3"
      },
      "source": [
        ""
      ]
    },
    {
      "cell_type": "code",
      "metadata": {
        "id": "DgJdDjN4rvcI"
      },
      "source": [
        "mv /content/SketchySceneColorization/Instance_Matching/models/iter_100000.tfmodel.meta /content/SketchySceneColorization/Instance_Matching/models/SketchyScene_DeepLabv2"
      ],
      "execution_count": 43,
      "outputs": []
    },
    {
      "cell_type": "markdown",
      "metadata": {
        "id": "nz9XpsYzxEX5"
      },
      "source": [
        "# 新段落"
      ]
    },
    {
      "cell_type": "code",
      "metadata": {
        "id": "wDInYDk2w5pa",
        "colab": {
          "base_uri": "https://localhost:8080/"
        },
        "outputId": "71e47d13-7d47-4560-c7e0-8012f6b2108e"
      },
      "source": [
        "!python3 /content/SketchySceneColorization/Instance_Matching/matching_main.py --mode 'train' --data_base_dir '/content/drive/MyDrive/data'"
      ],
      "execution_count": 37,
      "outputs": [
        {
          "output_type": "stream",
          "text": [
            "WARNING:tensorflow:\n",
            "The TensorFlow contrib module will not be included in TensorFlow 2.0.\n",
            "For more information, please see:\n",
            "  * https://github.com/tensorflow/community/blob/master/rfcs/20180907-contrib-sunset.md\n",
            "  * https://github.com/tensorflow/addons\n",
            "  * https://github.com/tensorflow/io (for I/O related ops)\n",
            "If you depend on functionality not listed there, please file an issue.\n",
            "\n",
            "WARNING:tensorflow:From /content/SketchySceneColorization/Instance_Matching/deeplab_v3plus_model.py:442: The name tf.placeholder is deprecated. Please use tf.compat.v1.placeholder instead.\n",
            "\n",
            "Training mode.\n",
            "Traceback (most recent call last):\n",
            "  File \"/content/SketchySceneColorization/Instance_Matching/matching_main.py\", line 523, in <module>\n",
            "    captions_base_dir=args.captions_base_dir)\n",
            "  File \"/content/SketchySceneColorization/Instance_Matching/matching_main.py\", line 84, in train\n",
            "    vocab_dict = text_processing.load_vocab_dict_from_file(FLAGS.vocab_path)\n",
            "  File \"/content/SketchySceneColorization/Instance_Matching/data_processing/text_processing.py\", line 85, in load_vocab_dict_from_file\n",
            "    with open(dict_file) as f:\n",
            "FileNotFoundError: [Errno 2] No such file or directory: 'data/vocab.txt'\n"
          ],
          "name": "stdout"
        }
      ]
    },
    {
      "cell_type": "markdown",
      "metadata": {
        "id": "smLAQoeRvOX7"
      },
      "source": [
        "# 新段落"
      ]
    },
    {
      "cell_type": "code",
      "metadata": {
        "colab": {
          "base_uri": "https://localhost:8080/"
        },
        "id": "S0wyYmSS9lr2",
        "outputId": "fc025dcf-9712-4f4a-ed34-9c7e4186d16f"
      },
      "source": [
        "!python3 /content/SketchySceneColorization/Instance_Matching/matching_main.py --mode 'train' --data_base_dir '/content/drive/MyDrive/data' --model deeplab"
      ],
      "execution_count": 45,
      "outputs": [
        {
          "output_type": "stream",
          "text": [
            "WARNING:tensorflow:\n",
            "The TensorFlow contrib module will not be included in TensorFlow 2.0.\n",
            "For more information, please see:\n",
            "  * https://github.com/tensorflow/community/blob/master/rfcs/20180907-contrib-sunset.md\n",
            "  * https://github.com/tensorflow/addons\n",
            "  * https://github.com/tensorflow/io (for I/O related ops)\n",
            "If you depend on functionality not listed there, please file an issue.\n",
            "\n",
            "WARNING:tensorflow:From /content/SketchySceneColorization/Instance_Matching/deeplab_v3plus_model.py:442: The name tf.placeholder is deprecated. Please use tf.compat.v1.placeholder instead.\n",
            "\n",
            "Training mode.\n",
            "WARNING:tensorflow:From /content/SketchySceneColorization/Instance_Matching/deeplab_model.py:51: The name tf.variable_scope is deprecated. Please use tf.compat.v1.variable_scope instead.\n",
            "\n",
            "WARNING:tensorflow:From /content/SketchySceneColorization/Instance_Matching/deeplab_model.py:276: The name tf.get_variable is deprecated. Please use tf.compat.v1.get_variable instead.\n",
            "\n",
            "WARNING:tensorflow:From /content/SketchySceneColorization/Instance_Matching/deeplab_model.py:183: calling Constant.__init__ (from tensorflow.python.ops.init_ops) with dtype is deprecated and will be removed in a future version.\n",
            "Instructions for updating:\n",
            "Call initializer instance with the dtype argument instead of passing it to the constructor\n",
            "WARNING:tensorflow:From /content/SketchySceneColorization/Instance_Matching/deeplab_model.py:221: div (from tensorflow.python.ops.math_ops) is deprecated and will be removed in a future version.\n",
            "Instructions for updating:\n",
            "Deprecated in favor of operator or tf.math.divide.\n",
            "WARNING:tensorflow:From /content/SketchySceneColorization/Instance_Matching/deeplab_model.py:293: where (from tensorflow.python.ops.array_ops) is deprecated and will be removed in a future version.\n",
            "Instructions for updating:\n",
            "Use tf.where in 2.0, which has the same broadcast rule as np.where\n",
            "WARNING:tensorflow:From /content/SketchySceneColorization/Instance_Matching/deeplab_model.py:72: The name tf.nn.max_pool is deprecated. Please use tf.nn.max_pool2d instead.\n",
            "\n",
            "WARNING:tensorflow:From /content/SketchySceneColorization/Instance_Matching/deeplab_model.py:259: The name tf.logging.info is deprecated. Please use tf.compat.v1.logging.info instead.\n",
            "\n",
            "WARNING:tensorflow:From /content/SketchySceneColorization/Instance_Matching/RMI_model.py:132: LSTMCell.__init__ (from tensorflow.python.ops.rnn_cell_impl) is deprecated and will be removed in a future version.\n",
            "Instructions for updating:\n",
            "This class is equivalent as tf.keras.layers.LSTMCell, and will be replaced by that in Tensorflow 2.0.\n",
            "WARNING:tensorflow:<tensorflow.python.ops.rnn_cell_impl.LSTMCell object at 0x7fc08f92d590>: Using a concatenated state is slower and will soon be deprecated.  Use state_is_tuple=True.\n",
            "WARNING:tensorflow:<tensorflow.python.ops.rnn_cell_impl.LSTMCell object at 0x7fc08bcb6d50>: Using a concatenated state is slower and will soon be deprecated.  Use state_is_tuple=True.\n",
            "WARNING:tensorflow:From /content/SketchySceneColorization/Instance_Matching/RMI_model.py:154: The name tf.get_variable_scope is deprecated. Please use tf.compat.v1.get_variable_scope instead.\n",
            "\n",
            "WARNING:tensorflow:From /content/SketchySceneColorization/Instance_Matching/RMI_model.py:163: dynamic_rnn (from tensorflow.python.ops.rnn) is deprecated and will be removed in a future version.\n",
            "Instructions for updating:\n",
            "Please use `keras.layers.RNN(cell)`, which is equivalent to this API\n",
            "WARNING:tensorflow:From /tensorflow-1.15.2/python3.7/tensorflow_core/python/ops/rnn_cell_impl.py:958: Layer.add_variable (from tensorflow.python.keras.engine.base_layer) is deprecated and will be removed in a future version.\n",
            "Instructions for updating:\n",
            "Please use `layer.add_weight` method instead.\n",
            "WARNING:tensorflow:From /tensorflow-1.15.2/python3.7/tensorflow_core/python/ops/rnn_cell_impl.py:962: calling Zeros.__init__ (from tensorflow.python.ops.init_ops) with dtype is deprecated and will be removed in a future version.\n",
            "Instructions for updating:\n",
            "Call initializer instance with the dtype argument instead of passing it to the constructor\n",
            "Using fusion module from RMI without recurrent attention\n",
            "Not using attention mechanism\n",
            "WARNING:tensorflow:From /content/SketchySceneColorization/Instance_Matching/RMI_model.py:277: The name tf.log is deprecated. Please use tf.math.log instead.\n",
            "\n",
            "WARNING:tensorflow:From /content/SketchySceneColorization/Instance_Matching/RMI_model.py:150: The name tf.image.resize_bilinear is deprecated. Please use tf.compat.v1.image.resize_bilinear instead.\n",
            "\n",
            "Fixing the CNN variables when training.\n",
            "WARNING:tensorflow:From /content/SketchySceneColorization/Instance_Matching/RMI_model.py:323: The name tf.trainable_variables is deprecated. Please use tf.compat.v1.trainable_variables instead.\n",
            "\n",
            "Training with the ignore BG strategy.\n",
            "WARNING:tensorflow:From /content/SketchySceneColorization/Instance_Matching/RMI_model.py:350: The name tf.summary.scalar is deprecated. Please use tf.compat.v1.summary.scalar instead.\n",
            "\n",
            "WARNING:tensorflow:From /content/SketchySceneColorization/Instance_Matching/RMI_model.py:356: The name tf.train.polynomial_decay is deprecated. Please use tf.compat.v1.train.polynomial_decay instead.\n",
            "\n",
            "WARNING:tensorflow:From /content/SketchySceneColorization/Instance_Matching/RMI_model.py:361: The name tf.train.AdamOptimizer is deprecated. Please use tf.compat.v1.train.AdamOptimizer instead.\n",
            "\n",
            "----------------------------------------------------------------------------------------------------\n",
            "Network params:\n",
            "ResNet/group_1/conv1/DW:0 | shape: (7, 7, 3, 64) | num_param: 9408\n",
            "ResNet/group_2_0/block_1/conv/DW:0 | shape: (1, 1, 64, 64) | num_param: 4096\n",
            "ResNet/group_2_0/block_2/conv/DW:0 | shape: (3, 3, 64, 64) | num_param: 36864\n",
            "ResNet/group_2_0/block_3/conv/DW:0 | shape: (1, 1, 64, 256) | num_param: 16384\n",
            "ResNet/group_2_0/block_add/conv/DW:0 | shape: (1, 1, 64, 256) | num_param: 16384\n",
            "ResNet/group_2_1/block_1/conv/DW:0 | shape: (1, 1, 256, 64) | num_param: 16384\n",
            "ResNet/group_2_1/block_2/conv/DW:0 | shape: (3, 3, 64, 64) | num_param: 36864\n",
            "ResNet/group_2_1/block_3/conv/DW:0 | shape: (1, 1, 64, 256) | num_param: 16384\n",
            "ResNet/group_2_2/block_1/conv/DW:0 | shape: (1, 1, 256, 64) | num_param: 16384\n",
            "ResNet/group_2_2/block_2/conv/DW:0 | shape: (3, 3, 64, 64) | num_param: 36864\n",
            "ResNet/group_2_2/block_3/conv/DW:0 | shape: (1, 1, 64, 256) | num_param: 16384\n",
            "ResNet/group_3_0/block_1/conv/DW:0 | shape: (1, 1, 256, 128) | num_param: 32768\n",
            "ResNet/group_3_0/block_2/conv/DW:0 | shape: (3, 3, 128, 128) | num_param: 147456\n",
            "ResNet/group_3_0/block_3/conv/DW:0 | shape: (1, 1, 128, 512) | num_param: 65536\n",
            "ResNet/group_3_0/block_add/conv/DW:0 | shape: (1, 1, 256, 512) | num_param: 131072\n",
            "ResNet/group_3_1/block_1/conv/DW:0 | shape: (1, 1, 512, 128) | num_param: 65536\n",
            "ResNet/group_3_1/block_2/conv/DW:0 | shape: (3, 3, 128, 128) | num_param: 147456\n",
            "ResNet/group_3_1/block_3/conv/DW:0 | shape: (1, 1, 128, 512) | num_param: 65536\n",
            "ResNet/group_3_2/block_1/conv/DW:0 | shape: (1, 1, 512, 128) | num_param: 65536\n",
            "ResNet/group_3_2/block_2/conv/DW:0 | shape: (3, 3, 128, 128) | num_param: 147456\n",
            "ResNet/group_3_2/block_3/conv/DW:0 | shape: (1, 1, 128, 512) | num_param: 65536\n",
            "ResNet/group_3_3/block_1/conv/DW:0 | shape: (1, 1, 512, 128) | num_param: 65536\n",
            "ResNet/group_3_3/block_2/conv/DW:0 | shape: (3, 3, 128, 128) | num_param: 147456\n",
            "ResNet/group_3_3/block_3/conv/DW:0 | shape: (1, 1, 128, 512) | num_param: 65536\n",
            "ResNet/group_4_0/block_1/conv/DW:0 | shape: (1, 1, 512, 256) | num_param: 131072\n",
            "ResNet/group_4_0/block_2/conv/DW:0 | shape: (3, 3, 256, 256) | num_param: 589824\n",
            "ResNet/group_4_0/block_3/conv/DW:0 | shape: (1, 1, 256, 1024) | num_param: 262144\n",
            "ResNet/group_4_0/block_add/conv/DW:0 | shape: (1, 1, 512, 1024) | num_param: 524288\n",
            "ResNet/group_4_1/block_1/conv/DW:0 | shape: (1, 1, 1024, 256) | num_param: 262144\n",
            "ResNet/group_4_1/block_2/conv/DW:0 | shape: (3, 3, 256, 256) | num_param: 589824\n",
            "ResNet/group_4_1/block_3/conv/DW:0 | shape: (1, 1, 256, 1024) | num_param: 262144\n",
            "ResNet/group_4_2/block_1/conv/DW:0 | shape: (1, 1, 1024, 256) | num_param: 262144\n",
            "ResNet/group_4_2/block_2/conv/DW:0 | shape: (3, 3, 256, 256) | num_param: 589824\n",
            "ResNet/group_4_2/block_3/conv/DW:0 | shape: (1, 1, 256, 1024) | num_param: 262144\n",
            "ResNet/group_4_3/block_1/conv/DW:0 | shape: (1, 1, 1024, 256) | num_param: 262144\n",
            "ResNet/group_4_3/block_2/conv/DW:0 | shape: (3, 3, 256, 256) | num_param: 589824\n",
            "ResNet/group_4_3/block_3/conv/DW:0 | shape: (1, 1, 256, 1024) | num_param: 262144\n",
            "ResNet/group_4_4/block_1/conv/DW:0 | shape: (1, 1, 1024, 256) | num_param: 262144\n",
            "ResNet/group_4_4/block_2/conv/DW:0 | shape: (3, 3, 256, 256) | num_param: 589824\n",
            "ResNet/group_4_4/block_3/conv/DW:0 | shape: (1, 1, 256, 1024) | num_param: 262144\n",
            "ResNet/group_4_5/block_1/conv/DW:0 | shape: (1, 1, 1024, 256) | num_param: 262144\n",
            "ResNet/group_4_5/block_2/conv/DW:0 | shape: (3, 3, 256, 256) | num_param: 589824\n",
            "ResNet/group_4_5/block_3/conv/DW:0 | shape: (1, 1, 256, 1024) | num_param: 262144\n",
            "ResNet/group_4_6/block_1/conv/DW:0 | shape: (1, 1, 1024, 256) | num_param: 262144\n",
            "ResNet/group_4_6/block_2/conv/DW:0 | shape: (3, 3, 256, 256) | num_param: 589824\n",
            "ResNet/group_4_6/block_3/conv/DW:0 | shape: (1, 1, 256, 1024) | num_param: 262144\n",
            "ResNet/group_4_7/block_1/conv/DW:0 | shape: (1, 1, 1024, 256) | num_param: 262144\n",
            "ResNet/group_4_7/block_2/conv/DW:0 | shape: (3, 3, 256, 256) | num_param: 589824\n",
            "ResNet/group_4_7/block_3/conv/DW:0 | shape: (1, 1, 256, 1024) | num_param: 262144\n",
            "ResNet/group_4_8/block_1/conv/DW:0 | shape: (1, 1, 1024, 256) | num_param: 262144\n",
            "ResNet/group_4_8/block_2/conv/DW:0 | shape: (3, 3, 256, 256) | num_param: 589824\n",
            "ResNet/group_4_8/block_3/conv/DW:0 | shape: (1, 1, 256, 1024) | num_param: 262144\n",
            "ResNet/group_4_9/block_1/conv/DW:0 | shape: (1, 1, 1024, 256) | num_param: 262144\n",
            "ResNet/group_4_9/block_2/conv/DW:0 | shape: (3, 3, 256, 256) | num_param: 589824\n",
            "ResNet/group_4_9/block_3/conv/DW:0 | shape: (1, 1, 256, 1024) | num_param: 262144\n",
            "ResNet/group_4_10/block_1/conv/DW:0 | shape: (1, 1, 1024, 256) | num_param: 262144\n",
            "ResNet/group_4_10/block_2/conv/DW:0 | shape: (3, 3, 256, 256) | num_param: 589824\n",
            "ResNet/group_4_10/block_3/conv/DW:0 | shape: (1, 1, 256, 1024) | num_param: 262144\n",
            "ResNet/group_4_11/block_1/conv/DW:0 | shape: (1, 1, 1024, 256) | num_param: 262144\n",
            "ResNet/group_4_11/block_2/conv/DW:0 | shape: (3, 3, 256, 256) | num_param: 589824\n",
            "ResNet/group_4_11/block_3/conv/DW:0 | shape: (1, 1, 256, 1024) | num_param: 262144\n",
            "ResNet/group_4_12/block_1/conv/DW:0 | shape: (1, 1, 1024, 256) | num_param: 262144\n",
            "ResNet/group_4_12/block_2/conv/DW:0 | shape: (3, 3, 256, 256) | num_param: 589824\n",
            "ResNet/group_4_12/block_3/conv/DW:0 | shape: (1, 1, 256, 1024) | num_param: 262144\n",
            "ResNet/group_4_13/block_1/conv/DW:0 | shape: (1, 1, 1024, 256) | num_param: 262144\n",
            "ResNet/group_4_13/block_2/conv/DW:0 | shape: (3, 3, 256, 256) | num_param: 589824\n",
            "ResNet/group_4_13/block_3/conv/DW:0 | shape: (1, 1, 256, 1024) | num_param: 262144\n",
            "ResNet/group_4_14/block_1/conv/DW:0 | shape: (1, 1, 1024, 256) | num_param: 262144\n",
            "ResNet/group_4_14/block_2/conv/DW:0 | shape: (3, 3, 256, 256) | num_param: 589824\n",
            "ResNet/group_4_14/block_3/conv/DW:0 | shape: (1, 1, 256, 1024) | num_param: 262144\n",
            "ResNet/group_4_15/block_1/conv/DW:0 | shape: (1, 1, 1024, 256) | num_param: 262144\n",
            "ResNet/group_4_15/block_2/conv/DW:0 | shape: (3, 3, 256, 256) | num_param: 589824\n",
            "ResNet/group_4_15/block_3/conv/DW:0 | shape: (1, 1, 256, 1024) | num_param: 262144\n",
            "ResNet/group_4_16/block_1/conv/DW:0 | shape: (1, 1, 1024, 256) | num_param: 262144\n",
            "ResNet/group_4_16/block_2/conv/DW:0 | shape: (3, 3, 256, 256) | num_param: 589824\n",
            "ResNet/group_4_16/block_3/conv/DW:0 | shape: (1, 1, 256, 1024) | num_param: 262144\n",
            "ResNet/group_4_17/block_1/conv/DW:0 | shape: (1, 1, 1024, 256) | num_param: 262144\n",
            "ResNet/group_4_17/block_2/conv/DW:0 | shape: (3, 3, 256, 256) | num_param: 589824\n",
            "ResNet/group_4_17/block_3/conv/DW:0 | shape: (1, 1, 256, 1024) | num_param: 262144\n",
            "ResNet/group_4_18/block_1/conv/DW:0 | shape: (1, 1, 1024, 256) | num_param: 262144\n",
            "ResNet/group_4_18/block_2/conv/DW:0 | shape: (3, 3, 256, 256) | num_param: 589824\n",
            "ResNet/group_4_18/block_3/conv/DW:0 | shape: (1, 1, 256, 1024) | num_param: 262144\n",
            "ResNet/group_4_19/block_1/conv/DW:0 | shape: (1, 1, 1024, 256) | num_param: 262144\n",
            "ResNet/group_4_19/block_2/conv/DW:0 | shape: (3, 3, 256, 256) | num_param: 589824\n",
            "ResNet/group_4_19/block_3/conv/DW:0 | shape: (1, 1, 256, 1024) | num_param: 262144\n",
            "ResNet/group_4_20/block_1/conv/DW:0 | shape: (1, 1, 1024, 256) | num_param: 262144\n",
            "ResNet/group_4_20/block_2/conv/DW:0 | shape: (3, 3, 256, 256) | num_param: 589824\n",
            "ResNet/group_4_20/block_3/conv/DW:0 | shape: (1, 1, 256, 1024) | num_param: 262144\n",
            "ResNet/group_4_21/block_1/conv/DW:0 | shape: (1, 1, 1024, 256) | num_param: 262144\n",
            "ResNet/group_4_21/block_2/conv/DW:0 | shape: (3, 3, 256, 256) | num_param: 589824\n",
            "ResNet/group_4_21/block_3/conv/DW:0 | shape: (1, 1, 256, 1024) | num_param: 262144\n",
            "ResNet/group_4_22/block_1/conv/DW:0 | shape: (1, 1, 1024, 256) | num_param: 262144\n",
            "ResNet/group_4_22/block_2/conv/DW:0 | shape: (3, 3, 256, 256) | num_param: 589824\n",
            "ResNet/group_4_22/block_3/conv/DW:0 | shape: (1, 1, 256, 1024) | num_param: 262144\n",
            "ResNet/group_5_0/block_1/conv/DW:0 | shape: (1, 1, 1024, 512) | num_param: 524288\n",
            "ResNet/group_5_0/block_2/conv/DW:0 | shape: (3, 3, 512, 512) | num_param: 2359296\n",
            "ResNet/group_5_0/block_3/conv/DW:0 | shape: (1, 1, 512, 2048) | num_param: 1048576\n",
            "ResNet/group_5_0/block_add/conv/DW:0 | shape: (1, 1, 1024, 2048) | num_param: 2097152\n",
            "ResNet/group_5_1/block_1/conv/DW:0 | shape: (1, 1, 2048, 512) | num_param: 1048576\n",
            "ResNet/group_5_1/block_2/conv/DW:0 | shape: (3, 3, 512, 512) | num_param: 2359296\n",
            "ResNet/group_5_1/block_3/conv/DW:0 | shape: (1, 1, 512, 2048) | num_param: 1048576\n",
            "ResNet/group_5_2/block_1/conv/DW:0 | shape: (1, 1, 2048, 512) | num_param: 1048576\n",
            "ResNet/group_5_2/block_2/conv/DW:0 | shape: (3, 3, 512, 512) | num_param: 2359296\n",
            "ResNet/group_5_2/block_3/conv/DW:0 | shape: (1, 1, 512, 2048) | num_param: 1048576\n",
            "text_sketchyscene/visual_feat_projection/DW:0 | shape: (1, 1, 2048, 1000) | num_param: 2048000\n",
            "text_sketchyscene/visual_feat_projection/biases:0 | shape: (1000,) | num_param: 1000\n",
            "text_sketchyscene/embedding:0 | shape: (76, 1000) | num_param: 76000\n",
            "text_sketchyscene/wLSTM/lstm_cell/kernel:0 | shape: (2000, 4000) | num_param: 8000000\n",
            "text_sketchyscene/wLSTM/lstm_cell/bias:0 | shape: (4000,) | num_param: 4000\n",
            "text_sketchyscene/mLSTM/lstm_cell/kernel:0 | shape: (3508, 2000) | num_param: 7016000\n",
            "text_sketchyscene/mLSTM/lstm_cell/bias:0 | shape: (2000,) | num_param: 2000\n",
            "text_sketchyscene/m_lstm_output_projection/DW:0 | shape: (1, 1, 500, 1) | num_param: 500\n",
            "text_sketchyscene/m_lstm_output_projection/biases:0 | shape: (1,) | num_param: 1\n",
            "Total network variables 59542317.\n",
            "----------------------------------------------------------------------------------------------------\n",
            "Optimizing params:\n",
            "text_sketchyscene/visual_feat_projection/DW:0 | shape: (1, 1, 2048, 1000)\n",
            "text_sketchyscene/visual_feat_projection/biases:0 | shape: (1000,)\n",
            "text_sketchyscene/embedding:0 | shape: (76, 1000)\n",
            "text_sketchyscene/wLSTM/lstm_cell/kernel:0 | shape: (2000, 4000)\n",
            "text_sketchyscene/wLSTM/lstm_cell/bias:0 | shape: (4000,)\n",
            "text_sketchyscene/mLSTM/lstm_cell/kernel:0 | shape: (3508, 2000)\n",
            "text_sketchyscene/mLSTM/lstm_cell/bias:0 | shape: (2000,)\n",
            "text_sketchyscene/m_lstm_output_projection/DW:0 | shape: (1, 1, 500, 1)\n",
            "text_sketchyscene/m_lstm_output_projection/biases:0 | shape: (1,)\n",
            "----------------------------------------------------------------------------------------------------\n",
            "WARNING:tensorflow:From /content/SketchySceneColorization/Instance_Matching/matching_main.py:116: The name tf.train.Saver is deprecated. Please use tf.compat.v1.train.Saver instead.\n",
            "\n",
            "WARNING:tensorflow:From /content/SketchySceneColorization/Instance_Matching/matching_main.py:118: The name tf.ConfigProto is deprecated. Please use tf.compat.v1.ConfigProto instead.\n",
            "\n",
            "WARNING:tensorflow:From /content/SketchySceneColorization/Instance_Matching/matching_main.py:120: The name tf.Session is deprecated. Please use tf.compat.v1.Session instead.\n",
            "\n",
            "2021-07-12 14:06:05.422020: I tensorflow/core/platform/profile_utils/cpu_utils.cc:94] CPU Frequency: 2299995000 Hz\n",
            "2021-07-12 14:06:05.422337: I tensorflow/compiler/xla/service/service.cc:168] XLA service 0x5607a1d7af40 initialized for platform Host (this does not guarantee that XLA will be used). Devices:\n",
            "2021-07-12 14:06:05.422372: I tensorflow/compiler/xla/service/service.cc:176]   StreamExecutor device (0): Host, Default Version\n",
            "2021-07-12 14:06:05.424138: I tensorflow/stream_executor/platform/default/dso_loader.cc:44] Successfully opened dynamic library libcuda.so.1\n",
            "2021-07-12 14:06:05.428746: E tensorflow/stream_executor/cuda/cuda_driver.cc:318] failed call to cuInit: CUDA_ERROR_NO_DEVICE: no CUDA-capable device is detected\n",
            "2021-07-12 14:06:05.428790: I tensorflow/stream_executor/cuda/cuda_diagnostics.cc:169] retrieving CUDA diagnostic information for host: 2163137d026e\n",
            "2021-07-12 14:06:05.428811: I tensorflow/stream_executor/cuda/cuda_diagnostics.cc:176] hostname: 2163137d026e\n",
            "2021-07-12 14:06:05.428894: I tensorflow/stream_executor/cuda/cuda_diagnostics.cc:200] libcuda reported version is: 460.32.3\n",
            "2021-07-12 14:06:05.428945: I tensorflow/stream_executor/cuda/cuda_diagnostics.cc:204] kernel reported version is: 460.32.3\n",
            "2021-07-12 14:06:05.428966: I tensorflow/stream_executor/cuda/cuda_diagnostics.cc:310] kernel version seems to match DSO: 460.32.3\n",
            "WARNING:tensorflow:From /content/SketchySceneColorization/Instance_Matching/matching_main.py:121: The name tf.global_variables_initializer is deprecated. Please use tf.compat.v1.global_variables_initializer instead.\n",
            "\n",
            "WARNING:tensorflow:From /content/SketchySceneColorization/Instance_Matching/matching_main.py:127: The name tf.global_variables is deprecated. Please use tf.compat.v1.global_variables instead.\n",
            "\n",
            "Traceback (most recent call last):\n",
            "  File \"/content/SketchySceneColorization/Instance_Matching/matching_main.py\", line 523, in <module>\n",
            "    captions_base_dir=args.captions_base_dir)\n",
            "  File \"/content/SketchySceneColorization/Instance_Matching/matching_main.py\", line 141, in train\n",
            "    print('firstly train, loaded', ckpt.model_checkpoint_path)\n",
            "AttributeError: 'NoneType' object has no attribute 'model_checkpoint_path'\n"
          ],
          "name": "stdout"
        }
      ]
    }
  ]
}